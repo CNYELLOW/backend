{
  "nbformat": 4,
  "nbformat_minor": 0,
  "metadata": {
    "colab": {
      "name": "Untitled0.ipynb",
      "provenance": [],
      "include_colab_link": true
    },
    "kernelspec": {
      "name": "python3",
      "display_name": "Python 3"
    }
  },
  "cells": [
    {
      "cell_type": "markdown",
      "metadata": {
        "id": "view-in-github",
        "colab_type": "text"
      },
      "source": [
        "<a href=\"https://colab.research.google.com/github/CNYELLOW/huangqihui.github.io/blob/master/Untitled0.ipynb\" target=\"_parent\"><img src=\"https://colab.research.google.com/assets/colab-badge.svg\" alt=\"Open In Colab\"/></a>"
      ]
    },
    {
      "cell_type": "code",
      "metadata": {
        "id": "LHJt0d3JV_Tv",
        "colab_type": "code",
        "colab": {}
      },
      "source": [
        "# rasa自定义组件\n",
        "\n",
        "# 通过在组件里设置实体把值传给actions\n",
        "class DealMessage(Component):\n",
        "    \"\"\"处理反馈消息\"\"\"\n",
        "    name = \"deal_message\"  # 组件名字\n",
        "    provides = [\"intent\"]  # 当前组件能够计算出什么\n",
        "\n",
        "    def __init__(self, component_config=None):\n",
        "        super(DealMessage, self).__init__(component_config)\n",
        "\n",
        "    def process(self, message, **kwargs):\n",
        "        text = message.text  # idle:0/phonenumber/str or str\n",
        "        text_list = text.split(\"/\")  # [\"idle:0\", \"phonenumber\", \"str\"] or [\"str\"]\n",
        "        # example:\n",
        "        # text_list = [\"answer\",\"131000000008\", \"ukefu\"]\n",
        "        # text_list = [\"你好\"]\n",
        "        \n",
        "        # 获取实体\n",
        "        entities = message.get(\"entities\")\n",
        "        # 通过text_list的长度判断接口，大于1为电话接口，等于1为微信接口\n",
        "        if len(text_list) > 1:\n",
        "            message.text = text_list[0]  # 把text值赋值给message.text\n",
        "            print(\"message.text\", message.text)\n",
        "            print(\"是电话\")\n",
        "            phonenumber = text_list[1]\n",
        "        elif len(text_list) == 1:\n",
        "            phonenumber = None\n",
        "            print(\"是微信\")\n",
        "\n",
        "        # 设置实体的电话号码值\n",
        "        entities = [{\n",
        "            'start': 0,\n",
        "            'end': 4,\n",
        "            'value': phonenumber,\n",
        "            'entity': 'phonenumber',\n",
        "            'confidence': 1,\n",
        "            'extractor': 'CRFEntityExtractor'\n",
        "        }]\n",
        "        # 更改实体的值\n",
        "        message.set(\"entities\", entities, add_to_output=True)\n",
        "\n",
        "        # entities: [{'start': 0, 'end': 4, 'value': '131000000008', 'entity': 'phonenumber',\n",
        "        #             'confidence': 1,'extractor': 'CRFEntityExtractor'\n",
        "        #           }]"
      ],
      "execution_count": 0,
      "outputs": []
    },
    {
      "cell_type": "code",
      "metadata": {
        "id": "ucDdYZEBWanR",
        "colab_type": "code",
        "colab": {}
      },
      "source": [
        "# rasa自定义组件\n",
        "\n",
        "# 在组件里强制改变所获取内容的意图\n",
        "class SortIntent(Component):\n",
        "  \"\"\"意图处理\"\"\"\n",
        "    name = \"sort_intent\"  # 组件名字\n",
        "    provides = [\"intent\"]  # 当前组件能够计算出什么\n",
        "\n",
        "    def __init__(self, component_config=None):\n",
        "        super(SortIntent, self).__init__(component_config)\n",
        "\n",
        "    def process(self, message, **kwargs):\n",
        "        text = message.text  # str\n",
        "        intent = message.get(\"intent\")\n",
        "        print(\"SortIntent text:\", text)\n",
        "        print(\"intent:\", intent)\n",
        "        intent_ranking = []\n",
        "        # 强制改变所获取内容的意图\n",
        "        if text == \"嗯\" or text == \"好\" or text == \"好的\":\n",
        "            intent = {\"name\": \"affirm\", \"confidence\": 1.0}\n",
        "            intent_ranking.append(intent)\n",
        "            message.set(\"intent\", intent, add_to_output=True)\n",
        "            message.set(\"intent_ranking\", intent_ranking, add_to_output=True)\n",
        "\n",
        "        elif text == \"answer\":\n",
        "            intent = {\"name\": \"greet\", \"confidence\": 1.0}\n",
        "            intent_ranking.append(intent)\n",
        "            message.set(\"intent\", intent, add_to_output=True)\n",
        "            message.set(\"intent_ranking\", intent_ranking, add_to_output=True)\n",
        "        elif text == \"idle0\":\n",
        "            intent = {\"name\": \"nosound\", \"confidence\": 1.0}\n",
        "            intent_ranking.append(intent)\n",
        "            message.set(\"intent\", intent, add_to_output=True)\n",
        "            message.set(\"intent_ranking\", intent_ranking, add_to_output=True)\n",
        "        elif text == \"idle1\":\n",
        "            intent = {\"name\": \"nosound\", \"confidence\": 1.0}\n",
        "            intent_ranking.append(intent)\n",
        "            message.set(\"intent\", intent, add_to_output=True)\n",
        "            message.set(\"intent_ranking\", intent_ranking, add_to_output=True)\n",
        "        elif text == \"idle2\":\n",
        "            intent = {\"name\": \"nosound\", \"confidence\": 1.0}\n",
        "            intent_ranking.append(intent)\n",
        "            message.set(\"intent\", intent, add_to_output=True)\n",
        "            message.set(\"intent_ranking\", intent_ranking, add_to_output=True)\n",
        "\n",
        "        elif text == \"hungup\":\n",
        "            intent = {\"name\": \"hungup\", \"confidence\": 1.0}\n",
        "            intent_ranking.append(intent)\n",
        "            message.set(\"intent\", intent, add_to_output=True)\n",
        "            message.set(\"intent_ranking\", intent_ranking, add_to_output=True)\n",
        "        # intent: {'name': 'affirm', 'confidence': 1}"
      ],
      "execution_count": 0,
      "outputs": []
    },
    {
      "cell_type": "markdown",
      "metadata": {
        "id": "6dlte5OOZ4Fu",
        "colab_type": "text"
      },
      "source": [
        "# 新段落"
      ]
    }
  ]
}